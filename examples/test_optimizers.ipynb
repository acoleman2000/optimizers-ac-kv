{
 "cells": [
  {
   "cell_type": "code",
   "execution_count": 1,
   "id": "89ca0660-4454-4123-8f12-f8e564736d4a",
   "metadata": {},
   "outputs": [],
   "source": [
    "# imports\n",
    "import numpy as np\n",
    "import pandas as pd\n",
    "import time\n",
    "from sklearn import preprocessing\n",
    "from sklearn.model_selection import train_test_split\n",
    "import matplotlib.pyplot as plt\n",
    "import random\n",
    "\n",
    "import sys, os\n",
    "sys.path.insert(0, os.path.dirname(os.getcwd()))\n",
    "sys.path.insert(0,os.getcwd())\n",
    "os.chdir(\"..\")\n",
    "from gwu_nn.gwu_network import GWUNetwork\n",
    "from gwu_nn.layers import Dense\n",
    "from gwu_nn.activation_layers import Sigmoid"
   ]
  },
  {
   "cell_type": "code",
   "execution_count": 25,
   "id": "cb6936d0-0362-4ed8-a119-bf311b31770f",
   "metadata": {},
   "outputs": [],
   "source": [
    "statistics = {\n",
    "   \"titanic\": {\n",
    "    \"GD\": {},\n",
    "    \"SGD\": {},\n",
    "    \"SGD w/ momentum\": {},\n",
    "    \"RMSprop\":{},\n",
    "    \"Adagrad\":{},\n",
    "    \"ADAM\":{},\n",
    "    \"GD_100\": 0,\n",
    "    \"GD_100_Normalized\": 0,\n",
    "    \"SGD_100\": 0,\n",
    "    \"SGD_100_Normalized\": 0,\n",
    "    \"SGD_momentum_100\":0,\n",
    "    \"SGD_momentum_100_Normalized\":0,\n",
    "    \"ADAM_100\": 0,\n",
    "    \"ADAM_100_Normalized\": 0,\n",
    "    \"RMSprop_100\": 0,\n",
    "    \"RMSprop_100_Normalized\": 0,\n",
    "    \"Adagrad_100\":0,\n",
    "    \"Adagrad_100_Normalized\":0                              \n",
    "   },\n",
    "  \"mushroom\": {\n",
    "    \"GD\": {},\n",
    "    \"SGD\": {},\n",
    "    \"RMSprop\":{},\n",
    "    \"Adagrad\":{},\n",
    "    \"SGD w/ momentum\": {},\n",
    "    \"ADAM\":{},\n",
    "    \"GD_100\": 0,\n",
    "    \"GD_100_Normalized\": 0,\n",
    "    \"SGD_100\": 0,\n",
    "    \"SGD_100_Normalized\": 0,\n",
    "    \"SGD_momentum_100\":0,\n",
    "    \"SGD_momentum_100_Normalized\":0,\n",
    "    \"ADAM_100\": 0,\n",
    "    \"ADAM_100_Normalized\": 0,\n",
    "    \"RMSprop_100\": 0,\n",
    "    \"RMSprop_100_Normalized\": 0,\n",
    "    \"Adagrad_100\":0,\n",
    "    \"Adagrad_100_Normalized\":0\n",
    "  }\n",
    "}"
   ]
  },
  {
   "cell_type": "markdown",
   "id": "4c47351d-da12-40f4-987c-eb89a44de875",
   "metadata": {},
   "source": [
    "## Titanic Data"
   ]
  },
  {
   "cell_type": "markdown",
   "id": "8b5c4633-3b27-4e22-adfa-ec8e7f8698eb",
   "metadata": {},
   "source": [
    "### Preprocessing data"
   ]
  },
  {
   "cell_type": "code",
   "execution_count": 3,
   "id": "a3297ba4-de1a-478d-803b-5672a3aa8b97",
   "metadata": {},
   "outputs": [],
   "source": [
    "y_col = 'Survived'\n",
    "x_cols = ['Pclass', 'Sex', 'Age', 'SibSp', 'Parch', 'Fare', 'Embarked']\n",
    "df = pd.read_csv('examples/data/titanic_data.csv')\n",
    "y = np.array(df[y_col]).reshape(-1, 1)\n",
    "orig_X = df[x_cols]\n",
    "\n",
    "# Lets standardize our features\n",
    "scaler = preprocessing.StandardScaler()\n",
    "stand_X = scaler.fit_transform(orig_X)\n",
    "X = stand_X\n",
    "\n",
    "X_train, X_test, y_train, y_test = train_test_split(X, y, test_size=0.33, random_state=42)"
   ]
  },
  {
   "cell_type": "code",
   "execution_count": 4,
   "id": "17e03d74-f14d-40bd-9cd0-c3ba1cf762a2",
   "metadata": {},
   "outputs": [],
   "source": [
    "random_seed_1 = random.randint(0, 2**32 - 1)\n",
    "random_seed_2 = random.randint(0, 2**32 - 1)\n",
    "random_seed_3 = random.randint(0, 2**32 - 1)"
   ]
  },
  {
   "cell_type": "markdown",
   "id": "969c3beb-b335-4d73-8027-ac57936f2d6a",
   "metadata": {},
   "source": [
    "### Gradient Descent (batch_size = entire dataset size)"
   ]
  },
  {
   "cell_type": "code",
   "execution_count": 5,
   "id": "28ace53d-8ec0-4000-9e25-bee0ab31c04b",
   "metadata": {},
   "outputs": [
    {
     "name": "stdout",
     "output_type": "stream",
     "text": [
      "epoch 10/100   error=0.9615425295639327\n",
      "epoch 20/100   error=1.1406889368707904\n",
      "epoch 30/100   error=1.1760647090269856\n",
      "epoch 40/100   error=1.1846206346875956\n",
      "epoch 50/100   error=1.1849418050241076\n",
      "epoch 60/100   error=1.1851905731368224\n",
      "epoch 70/100   error=1.187375280822277\n",
      "epoch 80/100   error=1.1875246262788972\n",
      "epoch 90/100   error=1.187640439783172\n",
      "Time for GD in seconds 0.4829988479614258\n",
      "Total loss for GD 1.2704053064398837\n"
     ]
    }
   ],
   "source": [
    "network = GWUNetwork()\n",
    "network.add_seeded(Dense(16, add_bias=False, activation='relu', input_size=X.shape[1]), seed=random_seed_1)\n",
    "network.add_seeded(Dense(8, add_bias=False, activation='relu'), seed=random_seed_2)\n",
    "network.add_seeded(Dense(1, add_bias=False, activation='sigmoid'), seed=random_seed_3)\n",
    "network.compile(loss='log_loss', lr=.0001)\n",
    "\n",
    "start = time.time()\n",
    "network.fit(X_train, y_train, optimizer=\"GD\",batch_size=X.shape[0], epochs=100)\n",
    "end = time.time()\n",
    "tot_time = end - start\n",
    "print(\"Time for GD in seconds %s\"%(tot_time))\n",
    "tot_loss = network.evaluate(X_test, y_test)\n",
    "print(\"Total loss for GD %s\"%(tot_loss))\n",
    "\n",
    "# Saving paramters to display later\n",
    "statistics[\"titanic\"][\"GD\"][\"time\"] = tot_time\n",
    "statistics[\"titanic\"][\"GD\"][\"loss\"] = tot_loss"
   ]
  },
  {
   "cell_type": "code",
   "execution_count": 7,
   "id": "7dcd844d-fa1f-4cd7-9888-4567155db21c",
   "metadata": {},
   "outputs": [
    {
     "name": "stdout",
     "output_type": "stream",
     "text": [
      "epoch 10/100   error=0.7133192842608067\n",
      "epoch 20/100   error=0.7159407208558769\n",
      "epoch 30/100   error=0.7198435937515378\n",
      "epoch 40/100   error=0.7195220254807965\n",
      "epoch 50/100   error=0.7191512960631804\n",
      "epoch 60/100   error=0.7200177395038511\n",
      "epoch 70/100   error=0.7206524395040345\n",
      "epoch 80/100   error=0.7205383771740737\n",
      "epoch 90/100   error=0.7207880350818074\n",
      "Time for ADAM in seconds 1.7600297927856445\n",
      "Total loss for ADAM 0.7240504839452729\n"
     ]
    }
   ],
   "source": [
    "network = GWUNetwork()\n",
    "network.add_seeded(Dense(16, add_bias=False, activation='relu', input_size=X.shape[1]), seed=random_seed_1)\n",
    "network.add_seeded(Dense(8, add_bias=False, activation='relu'), seed=random_seed_2)\n",
    "network.add_seeded(Dense(1, add_bias=False, activation='sigmoid'), seed=random_seed_3)\n",
    "network.compile(loss='log_loss', lr=.0001)\n",
    "start = time.time()\n",
    "network.fit(X_train, y_train, optimizer=\"ADAM\",batch_size=10, epochs=100)\n",
    "end = time.time()\n",
    "tot_time = end - start\n",
    "print(\"Time for ADAM in seconds %s\"%(tot_time))\n",
    "tot_loss = network.evaluate(X_test, y_test)\n",
    "print(\"Total loss for ADAM %s\"%(tot_loss))\n",
    "\n",
    "# Saving paramters to display later\n",
    "statistics[\"titanic\"][\"ADAM\"][\"time\"] = tot_time\n",
    "statistics[\"titanic\"][\"ADAM\"][\"loss\"] = tot_loss"
   ]
  },
  {
   "cell_type": "code",
   "execution_count": 8,
   "id": "a66b0462-5df4-4797-96df-0dbb4514a6af",
   "metadata": {},
   "outputs": [
    {
     "name": "stdout",
     "output_type": "stream",
     "text": [
      "epoch 10/100   error=0.6968612833600604\n",
      "epoch 20/100   error=0.6923293570695456\n",
      "epoch 30/100   error=0.6969077769872544\n",
      "epoch 40/100   error=0.6899985147675723\n",
      "epoch 50/100   error=0.6926313850634956\n",
      "epoch 60/100   error=0.6886821840726348\n",
      "epoch 70/100   error=0.6982289925067399\n",
      "epoch 80/100   error=0.6910699948642952\n",
      "epoch 90/100   error=0.6938984243321001\n",
      "Time for SGD in seconds 1.6316745281219482\n",
      "Total loss for SGD 0.7086356000255182\n"
     ]
    }
   ],
   "source": [
    "network = GWUNetwork()\n",
    "network.add_seeded(Dense(16, add_bias=False, activation='relu', input_size=X.shape[1]), seed=random_seed_1)\n",
    "network.add_seeded(Dense(8, add_bias=False, activation='relu'), seed=random_seed_2)\n",
    "network.add_seeded(Dense(1, add_bias=False, activation='sigmoid'), seed=random_seed_3)\n",
    "network.compile(loss='log_loss', lr=.0001)\n",
    "start = time.time()\n",
    "network.fit(X_train, y_train, optimizer=\"SGD\",batch_size=10, epochs=100)\n",
    "end = time.time()\n",
    "tot_time = end - start\n",
    "print(\"Time for SGD in seconds %s\"%(tot_time))\n",
    "tot_loss = network.evaluate(X_test, y_test)\n",
    "print(\"Total loss for SGD %s\"%(tot_loss))\n",
    "\n",
    "# Saving paramters to display later\n",
    "statistics[\"titanic\"][\"SGD\"][\"time\"] = tot_time\n",
    "statistics[\"titanic\"][\"SGD\"][\"loss\"] = tot_loss"
   ]
  },
  {
   "cell_type": "code",
   "execution_count": 11,
   "id": "3516f6cf-286f-48aa-9b3c-aec4dfe2031b",
   "metadata": {},
   "outputs": [
    {
     "name": "stdout",
     "output_type": "stream",
     "text": [
      "epoch 10/100   error=0.6888477918949508\n",
      "epoch 20/100   error=0.6915712924913171\n",
      "epoch 30/100   error=0.6922662170511783\n",
      "epoch 40/100   error=0.6993312254790647\n",
      "epoch 50/100   error=0.6992977879640433\n",
      "epoch 60/100   error=0.7019199063148948\n",
      "epoch 70/100   error=0.7094894986506498\n",
      "epoch 80/100   error=0.7111358880163224\n",
      "epoch 90/100   error=0.7149998028727902\n",
      "Time for SGD w/ momentum in seconds 1.590998649597168\n",
      "Total loss for SGD w/ momentum 0.7269591171558903\n"
     ]
    }
   ],
   "source": [
    "network = GWUNetwork()\n",
    "network.add_seeded(Dense(16, add_bias=False, activation='relu', input_size=X.shape[1]), seed=random_seed_1)\n",
    "network.add_seeded(Dense(8, add_bias=False, activation='relu'), seed=random_seed_2)\n",
    "network.add_seeded(Dense(1, add_bias=False, activation='sigmoid'), seed=random_seed_3)\n",
    "network.compile(loss='log_loss', lr=.0001)\n",
    "start = time.time()\n",
    "network.fit(X_train, y_train, optimizer=\"SGD w/ momentum\",batch_size=10, epochs=100)\n",
    "end = time.time()\n",
    "tot_time = end - start\n",
    "print(\"Time for SGD w/ momentum in seconds %s\"%(tot_time))\n",
    "tot_loss = network.evaluate(X_test, y_test)\n",
    "print(\"Total loss for SGD w/ momentum %s\"%(tot_loss))\n",
    "\n",
    "# Saving paramters to display later\n",
    "statistics[\"titanic\"][\"SGD w/ momentum\"][\"time\"] = tot_time\n",
    "statistics[\"titanic\"][\"SGD w/ momentum\"][\"loss\"] = tot_loss"
   ]
  },
  {
   "cell_type": "code",
   "execution_count": 12,
   "id": "9c2a2f97-a4c2-4208-8d4a-4fd037749572",
   "metadata": {},
   "outputs": [
    {
     "name": "stdout",
     "output_type": "stream",
     "text": [
      "epoch 10/100   error=0.6881905133373132\n",
      "epoch 20/100   error=0.6896468474527606\n",
      "epoch 30/100   error=0.6958018163421501\n",
      "epoch 40/100   error=0.6973964144665206\n",
      "epoch 50/100   error=0.6982592992710756\n",
      "epoch 60/100   error=0.7022969810254139\n",
      "epoch 70/100   error=0.7043634413551518\n",
      "epoch 80/100   error=0.7055827130172112\n",
      "epoch 90/100   error=0.7054029491551739\n",
      "Time for Adadelta in seconds 1.7999992370605469\n",
      "Total loss for Adagrad 0.7118702170964837\n"
     ]
    }
   ],
   "source": [
    "network = GWUNetwork()\n",
    "network.add_seeded(Dense(16, add_bias=False, activation='relu', input_size=X.shape[1]), seed=random_seed_1)\n",
    "network.add_seeded(Dense(8, add_bias=False, activation='relu'), seed=random_seed_2)\n",
    "network.add_seeded(Dense(1, add_bias=False, activation='sigmoid'), seed=random_seed_3)\n",
    "network.compile(loss='log_loss', lr=.0001)\n",
    "start = time.time()\n",
    "network.fit(X_train, y_train, optimizer=\"Adadelta\",batch_size=10, epochs=100)\n",
    "end = time.time()\n",
    "tot_time = end - start\n",
    "print(\"Time for Adadelta in seconds %s\"%(tot_time))\n",
    "tot_loss = network.evaluate(X_test, y_test)\n",
    "print(\"Total loss for Adagrad %s\"%(tot_loss))\n",
    "\n",
    "# Saving paramters to display later\n",
    "statistics[\"titanic\"][\"Adagrad\"][\"time\"] = tot_time\n",
    "statistics[\"titanic\"][\"Adagrad\"][\"loss\"] = tot_loss"
   ]
  },
  {
   "cell_type": "code",
   "execution_count": 13,
   "id": "ce61967e-e092-4d3b-a03a-2eae66d5df14",
   "metadata": {},
   "outputs": [
    {
     "name": "stdout",
     "output_type": "stream",
     "text": [
      "epoch 10/100   error=0.6888571295396324\n",
      "epoch 20/100   error=0.6894285918807372\n",
      "epoch 30/100   error=0.6903691391310339\n",
      "epoch 40/100   error=0.6953378368081787\n",
      "epoch 50/100   error=0.6960488688401599\n",
      "epoch 60/100   error=0.6991663298900045\n",
      "epoch 70/100   error=0.6992763112295118\n",
      "epoch 80/100   error=0.7019256489511628\n",
      "epoch 90/100   error=0.7035941394781823\n",
      "Time for RMSprop in seconds 1.7364051342010498\n",
      "Total loss for RMSprop 0.7153596622100046\n"
     ]
    }
   ],
   "source": [
    "network = GWUNetwork()\n",
    "network.add_seeded(Dense(16, add_bias=False, activation='relu', input_size=X.shape[1]), seed=random_seed_1)\n",
    "network.add_seeded(Dense(8, add_bias=False, activation='relu'), seed=random_seed_2)\n",
    "network.add_seeded(Dense(1, add_bias=False, activation='sigmoid'), seed=random_seed_3)\n",
    "network.compile(loss='log_loss', lr=.0001)\n",
    "start = time.time()\n",
    "network.fit(X_train, y_train, optimizer=\"RMSprop\",batch_size=10, epochs=100)\n",
    "end = time.time()\n",
    "tot_time = end - start\n",
    "print(\"Time for RMSprop in seconds %s\"%(tot_time))\n",
    "tot_loss = network.evaluate(X_test, y_test)\n",
    "print(\"Total loss for RMSprop %s\"%(tot_loss))\n",
    "\n",
    "# Saving paramters to display later\n",
    "statistics[\"titanic\"][\"RMSprop\"][\"time\"] = tot_time\n",
    "statistics[\"titanic\"][\"RMSprop\"][\"loss\"] = tot_loss"
   ]
  },
  {
   "cell_type": "code",
   "execution_count": 17,
   "id": "9f933e71-749f-490c-9195-5cb7f4c4b95a",
   "metadata": {},
   "outputs": [
    {
     "data": {
      "image/png": "[encoded data removed]",
      "text/plain": [
       "<Figure size 432x288 with 1 Axes>"
      ]
     },
     "metadata": {
      "needs_background": "light"
     },
     "output_type": "display_data"
    }
   ],
   "source": [
    "fig, ax = plt.subplots()\n",
    "\n",
    "optimiziers = ['GD', 'SGD', 'SGD w/ mom', 'ADAM', 'Adagrad', 'RMSprop']\n",
    "counts = [statistics[\"titanic\"][\"GD\"][\"loss\"], \n",
    "          statistics[\"titanic\"][\"SGD\"][\"loss\"], \n",
    "          statistics[\"titanic\"][\"SGD w/ momentum\"][\"loss\"], \n",
    "          statistics[\"titanic\"][\"ADAM\"][\"loss\"], \n",
    "          statistics[\"titanic\"][\"Adagrad\"][\"loss\"], \n",
    "          statistics[\"titanic\"][\"RMSprop\"][\"loss\"]]\n",
    "# bar_labels = ['Gradient Descent', 'blue', '_red', 'orange']\n",
    "# bar_colors = ['tab:red', 'tab:blue', 'tab:red', 'tab:orange']\n",
    "\n",
    "ax.bar(optimiziers, counts)\n",
    "\n",
    "ax.set_ylabel('Loss')\n",
    "ax.set_title('Loss of different optimizers for titanic dataset')\n",
    "\n",
    "plt.show()"
   ]
  },
  {
   "cell_type": "code",
   "execution_count": 18,
   "id": "472c2bf0-618d-4b1a-a954-95e1ec957aeb",
   "metadata": {},
   "outputs": [
    {
     "name": "stdout",
     "output_type": "stream",
     "text": [
      "1483893774\n",
      "2504520786\n",
      "3768466173\n"
     ]
    }
   ],
   "source": [
    "print(random_seed_1)\n",
    "print(random_seed_2)\n",
    "print(random_seed_3)"
   ]
  },
  {
   "cell_type": "code",
   "execution_count": 22,
   "id": "5878d61a-15ab-41bf-816d-8a043f0be08b",
   "metadata": {},
   "outputs": [
    {
     "data": {
      "image/png": "[encoded data removed]",
      "text/plain": [
       "<Figure size 432x288 with 1 Axes>"
      ]
     },
     "metadata": {
      "needs_background": "light"
     },
     "output_type": "display_data"
    }
   ],
   "source": [
    "fig, ax = plt.subplots()\n",
    "\n",
    "optimiziers = ['GD', 'SGD', 'SGD w/ mom', 'ADAM', 'Adagrad', 'RMSprop']\n",
    "counts = [statistics[\"titanic\"][\"GD\"][\"time\"], \n",
    "          statistics[\"titanic\"][\"SGD\"][\"time\"], \n",
    "          statistics[\"titanic\"][\"SGD w/ momentum\"][\"time\"], \n",
    "          statistics[\"titanic\"][\"ADAM\"][\"time\"], \n",
    "          statistics[\"titanic\"][\"Adagrad\"][\"time\"], \n",
    "          statistics[\"titanic\"][\"RMSprop\"][\"time\"]]\n",
    "# bar_labels = ['Gradient Descent', 'blue', '_red', 'orange']\n",
    "# bar_colors = ['tab:red', 'tab:blue', 'tab:red', 'tab:orange']\n",
    "\n",
    "ax.bar(optimiziers, counts)\n",
    "\n",
    "ax.set_ylabel('Time in seconds')\n",
    "ax.set_title('Time of different optimizers for mushroom dataset')\n",
    "\n",
    "plt.show()"
   ]
  },
  {
   "cell_type": "markdown",
   "id": "a96f9ed5-2368-40f8-96fd-b24d64db2b60",
   "metadata": {},
   "source": [
    "## Aggregate Data Collection"
   ]
  },
  {
   "cell_type": "code",
   "execution_count": null,
   "id": "f00f2413-d597-4280-8a7b-eef7c31f1c5b",
   "metadata": {},
   "outputs": [],
   "source": [
    "import sys\n",
    "save_stdout = sys.stdout\n",
    "sys.stdout = open('trash', 'w')\n",
    "for x in range(0, 100):\n",
    "    \n",
    "    random_seed_1 = random.randint(0, 2**32 - 1)\n",
    "    random_seed_2 = random.randint(0, 2**32 - 1)\n",
    "    random_seed_3 = random.randint(0, 2**32 - 1)\n",
    "\n",
    "    \n",
    "    network = GWUNetwork()\n",
    "    network.add_seeded(Dense(16, add_bias=False, activation='relu', input_size=X.shape[1]), seed=random_seed_1)\n",
    "    network.add_seeded(Dense(8, add_bias=False, activation='relu'), seed=random_seed_2)\n",
    "    network.add_seeded(Dense(1, add_bias=False, activation='sigmoid'), seed=random_seed_3)\n",
    "    network.compile(loss='log_loss', lr=.0001)\n",
    "    network.fit(X_train, y_train, optimizer=\"GD\",batch_size=X.shape[0], epochs=100)\n",
    "    tot_loss_GD = network.evaluate(X_test, y_test)\n",
    "    \n",
    "    network = GWUNetwork()\n",
    "    network.add_seeded(Dense(16, add_bias=False, activation='relu', input_size=X.shape[1]), seed=random_seed_1)\n",
    "    network.add_seeded(Dense(8, add_bias=False, activation='relu'), seed=random_seed_2)\n",
    "    network.add_seeded(Dense(1, add_bias=False, activation='sigmoid'), seed=random_seed_3)\n",
    "    network.compile(loss='log_loss', lr=.0001)\n",
    "    network.fit(X_train, y_train, optimizer=\"SGD\",batch_size=1, epochs=100)\n",
    "    tot_loss_SGD = network.evaluate(X_test, y_test)\n",
    "        \n",
    "    network = GWUNetwork()\n",
    "    network.add_seeded(Dense(16, add_bias=False, activation='relu', input_size=X.shape[1]), seed=random_seed_1)\n",
    "    network.add_seeded(Dense(8, add_bias=False, activation='relu'), seed=random_seed_2)\n",
    "    network.add_seeded(Dense(1, add_bias=False, activation='sigmoid'), seed=random_seed_3)\n",
    "    network.compile(loss='log_loss', lr=.0001)\n",
    "    network.fit(X_train, y_train, optimizer=\"SGD w/ momentum\",batch_size=1, epochs=100)\n",
    "    tot_loss_SGD_momentum = network.evaluate(X_test, y_test)\n",
    "\n",
    "    network = GWUNetwork()\n",
    "    network.add_seeded(Dense(16, add_bias=False, activation='relu', input_size=X.shape[1]), seed=random_seed_1)\n",
    "    network.add_seeded(Dense(8, add_bias=False, activation='relu'), seed=random_seed_2)\n",
    "    network.add_seeded(Dense(1, add_bias=False, activation='sigmoid'), seed=random_seed_3)\n",
    "    network.compile(loss='log_loss', lr=.0001)\n",
    "    network.fit(X_train, y_train, optimizer=\"ADAM\",batch_size=10, epochs=100)\n",
    "    tot_loss_ADAM = network.evaluate(X_test, y_test)\n",
    "    \n",
    "    network = GWUNetwork()\n",
    "    network.add_seeded(Dense(16, add_bias=False, activation='relu', input_size=X.shape[1]), seed=random_seed_1)\n",
    "    network.add_seeded(Dense(8, add_bias=False, activation='relu'), seed=random_seed_2)\n",
    "    network.add_seeded(Dense(1, add_bias=False, activation='sigmoid'), seed=random_seed_3)\n",
    "    network.compile(loss='log_loss', lr=.0001)\n",
    "    network.fit(X_train, y_train, optimizer=\"RMSprop\",batch_size=10, epochs=100)\n",
    "    tot_loss_rmsprop = network.evaluate(X_test, y_test)               \n",
    "                                         \n",
    "    network = GWUNetwork()\n",
    "    network.add_seeded(Dense(16, add_bias=False, activation='relu', input_size=X.shape[1]), seed=random_seed_1)\n",
    "    network.add_seeded(Dense(8, add_bias=False, activation='relu'), seed=random_seed_2)\n",
    "    network.add_seeded(Dense(1, add_bias=False, activation='sigmoid'), seed=random_seed_3)\n",
    "    network.compile(loss='log_loss', lr=.0001)\n",
    "    network.fit(X_train, y_train, optimizer=\"Adagrad\",batch_size=10, epochs=100)\n",
    "    tot_loss_adagrad = network.evaluate(X_test, y_test)\n",
    "                                         \n",
    "    statistics[\"titanic\"][\"GD_100\"] += tot_loss_GD\n",
    "    statistics[\"titanic\"][\"GD_100_Normalized\"] += (tot_loss_GD / tot_loss_GD)\n",
    "                                         \n",
    "                                             \n",
    "    statistics[\"titanic\"][\"SGD_100\"] += tot_loss_SGD\n",
    "    statistics[\"titanic\"][\"SGD_100_Normalized\"] += (tot_loss_SGD / tot_loss_GD)\n",
    "    \n",
    "                                                 \n",
    "    statistics[\"titanic\"][\"SGD_momentum_100\"] += tot_loss_SGD\n",
    "    statistics[\"titanic\"][\"SGD_momentum_100_Normalized\"] += (tot_loss_SGD / tot_loss_GD)\n",
    "    \n",
    "                                             \n",
    "    statistics[\"titanic\"][\"ADAM_100\"] += tot_loss_ADAM\n",
    "    statistics[\"titanic\"][\"ADAM_100_Normalized\"] += (tot_loss_ADAM / tot_loss_GD)\n",
    "                                         \n",
    "                                             \n",
    "    statistics[\"titanic\"][\"RMSprop_100\"] += tot_loss_rmsprop\n",
    "    statistics[\"titanic\"][\"RMSprop_100_Normalized\"] += (tot_loss_rmsprop / tot_loss_GD)\n",
    "                                        \n",
    "    statistics[\"titanic\"][\"Adagrad_100\"] += tot_loss_adagrad\n",
    "    statistics[\"titanic\"][\"Adagrad_100_Normalized\"] += (tot_loss_adagrad / tot_loss_GD)\n",
    "                                         \n",
    "    \n",
    "sys.stdout = save_stdout\n",
    "                                                                                 \n",
    "statistics[\"titanic\"][\"GD_100\"] /= 100\n",
    "statistics[\"titanic\"][\"GD_100_Normalized\"] /= 100\n",
    "\n",
    "statistics[\"titanic\"][\"SGD_100\"] /= 100\n",
    "statistics[\"titanic\"][\"SGD_100_Normalized\"] /= 100\n",
    "\n",
    "statistics[\"titanic\"][\"SGD_momentum_100\"] /= 100\n",
    "statistics[\"titanic\"][\"SGD_momentum_100_Normalized\"] /= 100\n",
    "\n",
    "statistics[\"titanic\"][\"ADAM_100\"] /= 100\n",
    "statistics[\"titanic\"][\"ADAM_100_Normalized\"] /= 100\n",
    "\n",
    "\n",
    "statistics[\"titanic\"][\"RMSprop_100\"] /= 100\n",
    "statistics[\"titanic\"][\"RMSprop_100_Normalized\"] /= 100\n",
    "\n",
    "statistics[\"titanic\"][\"Adagrad_100\"] = statistics[\"mushroom\"][\"Adagrad_100\"] / 100\n",
    "statistics[\"titanic\"][\"Adagrad_100_Normalized\"] /= 100"
   ]
  },
  {
   "cell_type": "code",
   "execution_count": null,
   "id": "9fc92e1c-e678-4625-9108-12f215189c86",
   "metadata": {},
   "outputs": [],
   "source": [
    "fig, ax = plt.subplots()\n",
    "optimiziers = ['GD', 'SGD', 'SGD w/ mom', 'ADAM', 'Adagrad', 'RMSprop']\n",
    "counts = [statistics[\"titanic\"][\"GD_100\"], \n",
    "          statistics[\"titanic\"][\"SGD_100\"],\n",
    "          statistics[\"titanic\"][\"SGD_momentum_100\"], \n",
    "          statistics[\"titanic\"][\"ADAM_100\"], \n",
    "          statistics[\"titanic\"][\"Adagrad_100\"], \n",
    "          statistics[\"titanic\"][\"RMSprop_100\"]]\n",
    "\n",
    "\n",
    "ax.bar(optimiziers, counts)\n",
    "ax.set_ylabel('Loss')\n",
    "ax.set_title('Loss of different optimizers for titanic dataset over 100 functions')\n",
    "\n",
    "plt.show()"
   ]
  },
  {
   "cell_type": "code",
   "execution_count": null,
   "id": "95ef5e5d-2bd4-45ab-9279-557b2d807e2f",
   "metadata": {},
   "outputs": [],
   "source": [
    "fig, ax = plt.subplots()\n",
    "optimiziers = ['GD', 'SGD', 'SGD w/ mom', 'ADAM', 'Adagrad', 'RMSprop']\n",
    "counts = [statistics[\"titanic\"][\"GD_100_Normalized\"], \n",
    "          statistics[\"titanic\"][\"SGD_100_Normalized\"],\n",
    "          statistics[\"titanic\"][\"SGD_momentum_100_Normalized\"], \n",
    "          statistics[\"titanic\"][\"ADAM_100_Normalized\"], \n",
    "          statistics[\"titanic\"][\"Adagrad_100_Normalized\"], \n",
    "          statistics[\"titanic\"][\"RMSprop_100_Normalized\"]]\n",
    "\n",
    "\n",
    "ax.bar(optimiziers, counts)\n",
    "ax.set_ylabel('Loss')\n",
    "ax.set_title('Loss of different optimizers for titanic dataset over 100 functions. \\n Normalized at GD = 1.')\n",
    "\n",
    "plt.show()"
   ]
  },
  {
   "cell_type": "markdown",
   "id": "173cd671-d85d-43db-a42d-38314c2b8132",
   "metadata": {},
   "source": [
    "## Dataset 2 - Mushroom Data"
   ]
  },
  {
   "cell_type": "markdown",
   "id": "b0c5b571-f45c-4edd-85f1-02c06f0f6025",
   "metadata": {},
   "source": [
    "### Processing Data"
   ]
  },
  {
   "cell_type": "code",
   "execution_count": null,
   "id": "209f0a0e-aa3a-416c-ac2b-3c0c2b37e73f",
   "metadata": {},
   "outputs": [],
   "source": [
    "df = pd.read_csv('examples/data/mushrooms.csv')\n",
    "y_col = df.columns[0]\n",
    "x_cols = df.columns[1:-1]\n",
    "y = np.array(df[y_col]).reshape(-1, 1)\n",
    "values = list(np.unique(y))\n",
    "f = lambda x: float(values.index(x))\n",
    "y = np.array(list(map(f, y)))\n",
    "for col in x_cols:\n",
    "    values = list(df[col].unique())\n",
    "    df[col] = df[col].apply(f)\n",
    "orig_x = df[x_cols]\n",
    "scaler = preprocessing.StandardScaler()\n",
    "stand_X = scaler.fit_transform(orig_X)\n",
    "X = stand_X"
   ]
  },
  {
   "cell_type": "code",
   "execution_count": null,
   "id": "5ff9f267-86a5-4fc3-8209-456caaa9b6f2",
   "metadata": {},
   "outputs": [],
   "source": [
    "random_seed_1 = random.randint(0, 2**32 - 1)\n",
    "random_seed_2 = random.randint(0, 2**32 - 1)\n",
    "random_seed_3 = random.randint(0, 2**32 - 1)"
   ]
  },
  {
   "cell_type": "code",
   "execution_count": null,
   "id": "e049b590-a1e1-4ddd-867d-55583df3df56",
   "metadata": {},
   "outputs": [],
   "source": [
    "network = GWUNetwork()\n",
    "network.add_seeded(Dense(16, add_bias=False, activation='relu', input_size=X.shape[1]), seed=random_seed_1)\n",
    "network.add_seeded(Dense(8, add_bias=False, activation='relu'), seed=random_seed_2)\n",
    "network.add_seeded(Dense(1, add_bias=False, activation='sigmoid'), seed=random_seed_3)\n",
    "network.compile(loss='log_loss', lr=.0001)\n",
    "start = time.time()\n",
    "network.fit(X_train, y_train, optimizer=\"GD\",batch_size=X.shape[0], epochs=100)\n",
    "end = time.time()\n",
    "tot_time = end - start\n",
    "print(\"Time for GD in seconds %s\"%(tot_time))\n",
    "tot_loss = network.evaluate(X_test, y_test)\n",
    "print(\"Total loss for GD %s\"%(tot_loss))\n",
    "\n",
    "# Saving paramters to display later\n",
    "statistics[\"mushroom\"][\"GD\"][\"time\"] = tot_time\n",
    "statistics[\"mushroom\"][\"GD\"][\"loss\"] = tot_loss"
   ]
  },
  {
   "cell_type": "code",
   "execution_count": null,
   "id": "16932af8-4557-4b0f-9e72-1fb32c06c46a",
   "metadata": {},
   "outputs": [],
   "source": [
    "network = GWUNetwork()\n",
    "network.add_seeded(Dense(16, add_bias=False, activation='relu', input_size=X.shape[1]), seed=random_seed_1)\n",
    "network.add_seeded(Dense(8, add_bias=False, activation='relu'), seed=random_seed_2)\n",
    "network.add_seeded(Dense(1, add_bias=False, activation='sigmoid'), seed=random_seed_3)\n",
    "network.compile(loss='log_loss', lr=.0001)\n",
    "start = time.time()\n",
    "network.fit(X_train, y_train, optimizer=\"SGD\",batch_size=1, epochs=100)\n",
    "end = time.time()\n",
    "tot_time = end - start\n",
    "print(\"Time for SGD in seconds %s\"%(tot_time))\n",
    "tot_loss = network.evaluate(X_test, y_test)\n",
    "print(\"Total loss for SGD %s\"%(tot_loss))\n",
    "\n",
    "# Saving paramters to display later\n",
    "statistics[\"mushroom\"][\"SGD\"][\"time\"] = tot_time\n",
    "statistics[\"mushroom\"][\"SGD\"][\"loss\"] = tot_loss"
   ]
  },
  {
   "cell_type": "code",
   "execution_count": null,
   "id": "82de4ea0-4b56-4e9a-b41d-17b50f1445cd",
   "metadata": {},
   "outputs": [],
   "source": [
    "network = GWUNetwork()\n",
    "network.add_seeded(Dense(16, add_bias=False, activation='relu', input_size=X.shape[1]), seed=random_seed_1)\n",
    "network.add_seeded(Dense(8, add_bias=False, activation='relu'), seed=random_seed_2)\n",
    "network.add_seeded(Dense(1, add_bias=False, activation='sigmoid'), seed=random_seed_3)\n",
    "network.compile(loss='log_loss', lr=.0001)\n",
    "start = time.time()\n",
    "network.fit(X_train, y_train, optimizer=\"SGD w/ momentum\",batch_size=1, epochs=100)\n",
    "end = time.time()\n",
    "tot_time = end - start\n",
    "print(\"Time for SGD in seconds %s\"%(tot_time))\n",
    "tot_loss = network.evaluate(X_test, y_test)\n",
    "print(\"Total loss for SGD %s\"%(tot_loss))\n",
    "\n",
    "# Saving paramters to display later\n",
    "statistics[\"mushroom\"][\"SGD w/ momentum\"] = {}\n",
    "statistics[\"mushroom\"][\"SGD w/ momentum\"][\"time\"] = tot_time\n",
    "statistics[\"mushroom\"][\"SGD w/ momentum\"][\"loss\"] = tot_loss"
   ]
  },
  {
   "cell_type": "code",
   "execution_count": null,
   "id": "6b19d80c-4d19-4b0e-8df8-18fdb49ee8a8",
   "metadata": {},
   "outputs": [],
   "source": [
    "network = GWUNetwork()\n",
    "network.add_seeded(Dense(16, add_bias=False, activation='relu', input_size=X.shape[1]), seed=random_seed_1)\n",
    "network.add_seeded(Dense(8, add_bias=False, activation='relu'), seed=random_seed_2)\n",
    "network.add_seeded(Dense(1, add_bias=False, activation='sigmoid'), seed=random_seed_3)\n",
    "network.compile(loss='log_loss', lr=.0001)\n",
    "start = time.time()\n",
    "network.fit(X_train, y_train, optimizer=\"ADAM\",batch_size=10, epochs=100)\n",
    "end = time.time()\n",
    "tot_time = end - start\n",
    "print(\"Time for ADAM in seconds %s\"%(tot_time))\n",
    "tot_loss = network.evaluate(X_test, y_test)\n",
    "print(\"Total loss for ADAM %s\"%(tot_loss))\n",
    "\n",
    "# Saving paramters to display later\n",
    "statistics[\"mushroom\"][\"ADAM\"][\"time\"] = tot_time\n",
    "statistics[\"mushroom\"][\"ADAM\"][\"loss\"] = tot_loss"
   ]
  },
  {
   "cell_type": "code",
   "execution_count": null,
   "id": "bcd5e71f-9825-4003-a5a3-ce42983882a6",
   "metadata": {},
   "outputs": [],
   "source": [
    "network = GWUNetwork()\n",
    "network.add_seeded(Dense(16, add_bias=False, activation='relu', input_size=X.shape[1]), seed=random_seed_1)\n",
    "network.add_seeded(Dense(8, add_bias=False, activation='relu'), seed=random_seed_2)\n",
    "network.add_seeded(Dense(1, add_bias=False, activation='sigmoid'), seed=random_seed_3)\n",
    "network.compile(loss='log_loss', lr=.0001)\n",
    "start = time.time()\n",
    "network.fit(X_train, y_train, optimizer=\"Adadelta\",batch_size=10, epochs=100)\n",
    "end = time.time()\n",
    "tot_time = end - start\n",
    "print(\"Time for Adadelta in seconds %s\"%(tot_time))\n",
    "tot_loss = network.evaluate(X_test, y_test)\n",
    "print(\"Total loss for Adagrad %s\"%(tot_loss))\n",
    "\n",
    "# Saving paramters to display later\n",
    "statistics[\"mushroom\"][\"Adagrad\"][\"time\"] = tot_time\n",
    "statistics[\"mushroom\"][\"Adagrad\"][\"loss\"] = tot_loss"
   ]
  },
  {
   "cell_type": "code",
   "execution_count": null,
   "id": "b953ac17-714b-4087-b4fd-4d5677bbc841",
   "metadata": {},
   "outputs": [],
   "source": [
    "network = GWUNetwork()\n",
    "network.add_seeded(Dense(16, add_bias=False, activation='relu', input_size=X.shape[1]), seed=random_seed_1)\n",
    "network.add_seeded(Dense(8, add_bias=False, activation='relu'), seed=random_seed_2)\n",
    "network.add_seeded(Dense(1, add_bias=False, activation='sigmoid'), seed=random_seed_3)\n",
    "network.compile(loss='log_loss', lr=.0001)\n",
    "start = time.time()\n",
    "network.fit(X_train, y_train, optimizer=\"RMSprop\",batch_size=10, epochs=100)\n",
    "end = time.time()\n",
    "tot_time = end - start\n",
    "print(\"Time for RMSprop in seconds %s\"%(tot_time))\n",
    "tot_loss = network.evaluate(X_test, y_test)\n",
    "print(\"Total loss for RMSprop %s\"%(tot_loss))\n",
    "\n",
    "# Saving paramters to display later\n",
    "statistics[\"mushroom\"][\"RMSprop\"][\"time\"] = tot_time\n",
    "statistics[\"mushroom\"][\"RMSprop\"][\"loss\"] = tot_loss"
   ]
  },
  {
   "cell_type": "code",
   "execution_count": null,
   "id": "0186abd9-b557-4083-a200-8f807af9e784",
   "metadata": {},
   "outputs": [],
   "source": [
    "fig, ax = plt.subplots()\n",
    "\n",
    "optimiziers = ['GD', 'SGD', 'SGD w/ mom', 'ADAM', 'Adagrad', 'RMSprop']\n",
    "counts = [statistics[\"mushroom\"][\"GD\"][\"loss\"], \n",
    "          statistics[\"mushroom\"][\"SGD\"][\"loss\"], \n",
    "          statistics[\"mushroom\"][\"SGD w/ momentum\"][\"loss\"],\n",
    "          statistics[\"mushroom\"][\"ADAM\"][\"loss\"], \n",
    "          statistics[\"mushroom\"][\"Adagrad\"][\"loss\"], \n",
    "          statistics[\"mushroom\"][\"RMSprop\"][\"loss\"]]\n",
    "\n",
    "a;x.bar(optimiziers, counts)\n",
    "\n",
    "ax.set_ylabel('Loss')\n",
    "ax.set_title('Loss of different optimizers for mushroom dataset')\n",
    "\n",
    "plt.show()"
   ]
  },
  {
   "cell_type": "code",
   "execution_count": 56,
   "id": "da50d46d-4fb2-4241-86d6-f04419c11421",
   "metadata": {},
   "outputs": [
    {
     "data": {
      "image/png": "[encoded data removed]",
      "text/plain": [
       "<Figure size 432x288 with 1 Axes>"
      ]
     },
     "metadata": {
      "needs_background": "light"
     },
     "output_type": "display_data"
    }
   ],
   "source": [
    "fig, ax = plt.subplots()\n",
    "\n",
    "optimiziers = ['GD', 'SGD', \"SGD w/ mom\", 'ADAM', 'Adagrad', 'RMSprop']\n",
    "counts = [statistics[\"mushroom\"][\"GD\"][\"time\"], \n",
    "          statistics[\"mushroom\"][\"SGD\"][\"time\"], \n",
    "          statistics[\"mushroom\"][\"SGD w/ momentum\"][\"time\"]\n",
    "          statistics[\"mushroom\"][\"ADAM\"][\"time\"], \n",
    "          statistics[\"mushroom\"][\"Adagrad\"][\"time\"], \n",
    "          statistics[\"mushroom\"][\"RMSprop\"][\"time\"]]\n",
    "# bar_labels = ['Gradient Descent', 'blue', '_red', 'orange']\n",
    "# bar_colors = ['tab:red', 'tab:blue', 'tab:red', 'tab:orange']\n",
    "\n",
    "ax.bar(optimiziers, counts)\n",
    "\n",
    "ax.set_ylabel('Time in seconds')\n",
    "ax.set_title('Time of different optimizers for mushroom dataset')\n",
    "\n",
    "plt.show()"
   ]
  },
  {
   "cell_type": "markdown",
   "id": "0337e8e6-aff3-4b6f-b060-d9a5ac284752",
   "metadata": {},
   "source": [
    "### Aggregate over 100 runs"
   ]
  },
  {
   "cell_type": "code",
   "execution_count": null,
   "id": "56c48bd1-f177-405d-9537-4b71a97fe5ff",
   "metadata": {},
   "outputs": [],
   "source": [
    "import sys\n",
    "save_stdout = sys.stdout\n",
    "sys.stdout = open('trash', 'w')\n",
    "for x in range(0, 100):\n",
    "\n",
    "        \n",
    "    random_seed_1 = random.randint(0, 2**32 - 1)\n",
    "    random_seed_2 = random.randint(0, 2**32 - 1)\n",
    "    random_seed_3 = random.randint(0, 2**32 - 1)\n",
    "        \n",
    "    network = GWUNetwork()\n",
    "    network = GWUNetwork()\n",
    "    network.add_seeded(Dense(16, add_bias=False, activation='relu', input_size=X.shape[1]), seed=random_seed_1)\n",
    "    network.add_seeded(Dense(8, add_bias=False, activation='relu'), seed=random_seed_2)\n",
    "    network.add_seeded(Dense(1, add_bias=False, activation='sigmoid'), seed=random_seed_3)\n",
    "    network.compile(loss='log_loss', lr=.0001)\n",
    "    network.fit(X_train, y_train, optimizer=\"GD\",batch_size=X.shape[0], epochs=100)\n",
    "    tot_loss_GD = network.evaluate(X_test, y_test)\n",
    "    \n",
    "    network = GWUNetwork()\n",
    "    network.add_seeded(Dense(16, add_bias=False, activation='relu', input_size=X.shape[1]), seed=random_seed_1)\n",
    "    network.add_seeded(Dense(8, add_bias=False, activation='relu'), seed=random_seed_2)\n",
    "    network.add_seeded(Dense(1, add_bias=False, activation='sigmoid'), seed=random_seed_3)\n",
    "    network.compile(loss='log_loss', lr=.0001)\n",
    "    network.fit(X_train, y_train, optimizer=\"SGD\",batch_size=1, epochs=100)\n",
    "    tot_loss_SGD = network.evaluate(X_test, y_test)\n",
    "    \n",
    "    network = GWUNetwork()\n",
    "    network.add_seeded(Dense(16, add_bias=False, activation='relu', input_size=X.shape[1]), seed=random_seed_1)\n",
    "    network.add_seeded(Dense(8, add_bias=False, activation='relu'), seed=random_seed_2)\n",
    "    network.add_seeded(Dense(1, add_bias=False, activation='sigmoid'), seed=random_seed_3)\n",
    "    network.compile(loss='log_loss', lr=.0001)\n",
    "    network.fit(X_train, y_train, optimizer=\"SGD w/ momentum\",batch_size=1, epochs=100)\n",
    "    tot_loss_SGD_momentum = network.evaluate(X_test, y_test)\n",
    "\n",
    "    network = GWUNetwork()\n",
    "    network.add_seeded(Dense(16, add_bias=False, activation='relu', input_size=X.shape[1]), seed=random_seed_1)\n",
    "    network.add_seeded(Dense(8, add_bias=False, activation='relu'), seed=random_seed_2)\n",
    "    network.add_seeded(Dense(1, add_bias=False, activation='sigmoid'), seed=random_seed_3)\n",
    "    network.compile(loss='log_loss', lr=.0001)\n",
    "    network.fit(X_train, y_train, optimizer=\"ADAM\",batch_size=10, epochs=100)\n",
    "    tot_loss_ADAM = network.evaluate(X_test, y_test)\n",
    "    \n",
    "    network = GWUNetwork()\n",
    "    network.add_seeded(Dense(16, add_bias=False, activation='relu', input_size=X.shape[1]), seed=random_seed_1)\n",
    "    network.add_seeded(Dense(8, add_bias=False, activation='relu'), seed=random_seed_2)\n",
    "    network.add_seeded(Dense(1, add_bias=False, activation='sigmoid'), seed=random_seed_3)\n",
    "    network.compile(loss='log_loss', lr=.0001)\n",
    "    network.fit(X_train, y_train, optimizer=\"RMSprop\",batch_size=10, epochs=100)\n",
    "    tot_loss_rmsprop = network.evaluate(X_test, y_test)               \n",
    "    \n",
    "    network = GWUNetwork()\n",
    "    network.add_seeded(Dense(16, add_bias=False, activation='relu', input_size=X.shape[1]), seed=random_seed_1)\n",
    "    network.add_seeded(Dense(8, add_bias=False, activation='relu'), seed=random_seed_2)\n",
    "    network.add_seeded(Dense(1, add_bias=False, activation='sigmoid'), seed=random_seed_3)\n",
    "    network.compile(loss='log_loss', lr=.0001)\n",
    "    network.fit(X_train, y_train, optimizer=\"Adagrad\",batch_size=10, epochs=100)\n",
    "    tot_loss_adagrad = network.evaluate(X_test, y_test)\n",
    "                                         \n",
    "    statistics[\"mushroom\"][\"GD_100\"] += tot_loss_GD\n",
    "    statistics[\"mushroom\"][\"GD_100_Normalized\"] += (tot_loss_GD / tot_loss_GD)\n",
    "                                         \n",
    "                                             \n",
    "    statistics[\"mushroom\"][\"SGD_100\"] += tot_loss_SGD\n",
    "    statistics[\"mushroom\"][\"SGD_100_Normalized\"] += (tot_loss_SGD / tot_loss_GD)\n",
    "    \n",
    "                                                 \n",
    "    statistics[\"mushroom\"][\"SGD_momentum_100\"] += tot_loss_SGD\n",
    "    statistics[\"mushroom\"][\"SGD_momentum_100_Normalized\"] += (tot_loss_SGD / tot_loss_GD)\n",
    "    \n",
    "                                             \n",
    "    statistics[\"mushroom\"][\"ADAM_100\"] += tot_loss_ADAM\n",
    "    statistics[\"mushroom\"][\"ADAM_100_Normalized\"] += (tot_loss_ADAM / tot_loss_GD)\n",
    "                                         \n",
    "                                             \n",
    "    statistics[\"mushroom\"][\"RMSprop_100\"] += tot_loss_rmsprop\n",
    "    statistics[\"mushroom\"][\"RMSprop_100_Normalized\"] += (tot_loss_rmsprop / tot_loss_GD)\n",
    "                                        \n",
    "    statistics[\"mushroom\"][\"Adagrad_100\"] += tot_loss_adagrad\n",
    "    statistics[\"mushroom\"][\"Adagrad_100_Normalized\"] += (tot_loss_adagrad / tot_loss_GD)\n",
    "                                         \n",
    "    \n",
    "sys.stdout = save_stdout\n",
    "                                                                                 \n",
    "statistics[\"mushroom\"][\"GD_100\"] /= 100\n",
    "statistics[\"mushroom\"][\"GD_100_Normalized\"] /= 100\n",
    "\n",
    "statistics[\"mushroom\"][\"SGD_100\"] /= 100\n",
    "statistics[\"mushroom\"][\"SGD_100_Normalized\"] /= 100\n",
    "\n",
    "statistics[\"mushroom\"][\"SGD_momentum_100\"] /= 100\n",
    "statistics[\"mushroom\"][\"SGD_momentum_100_Normalized\"] /= 100\n",
    "\n",
    "statistics[\"mushroom\"][\"ADAM_100\"] /= 100\n",
    "statistics[\"mushroom\"][\"ADAM_100_Normalized\"] /= 100\n",
    "\n",
    "\n",
    "statistics[\"mushroom\"][\"RMSprop_100\"] /= 100\n",
    "statistics[\"mushroom\"][\"RMSprop_100_Normalized\"] /= 100\n",
    "\n",
    "statistics[\"mushroom\"][\"Adagrad_100\"] = statistics[\"mushroom\"][\"Adagrad_100\"] / 100\n",
    "statistics[\"mushroom\"][\"Adagrad_100_Normalized\"] /= 100"
   ]
  },
  {
   "cell_type": "code",
   "execution_count": 66,
   "id": "ae2359c3-67e7-423f-ab57-3d3cb24436a5",
   "metadata": {},
   "outputs": [
    {
     "data": {
      "image/png": "[encoded data removed]",
      "text/plain": [
       "<Figure size 432x288 with 1 Axes>"
      ]
     },
     "metadata": {
      "needs_background": "light"
     },
     "output_type": "display_data"
    }
   ],
   "source": [
    "fig, ax = plt.subplots()\n",
    "optimiziers = ['GD', 'SGD', 'SGD w/ mom', 'ADAM', 'Adagrad', 'RMSprop']\n",
    "counts = [statistics[\"mushroom\"][\"GD_100\"], \n",
    "          statistics[\"mushroom\"][\"SGD_100\"], \n",
    "          statistics[\"mushroom\"][\"SGD_momentum_100\"],\n",
    "          statistics[\"mushroom\"][\"ADAM_100\"], \n",
    "          statistics[\"mushroom\"][\"Adagrad_100\"], \n",
    "          statistics[\"mushroom\"][\"RMSprop_100\"]]\n",
    "# bar_labels = ['Gradient Descent', 'blue', '_red', 'orange']\n",
    "# bar_colors = ['tab:red', 'tab:blue', 'tab:red', 'tab:orange']\n",
    "\n",
    "ax.bar(optimiziers, counts)\n",
    "\n",
    "ax.set_ylabel('Loss')\n",
    "ax.set_title('Loss of different optimizers for mushroom dataset over 100 functions')\n",
    "\n",
    "plt.show()"
   ]
  },
  {
   "cell_type": "code",
   "execution_count": 68,
   "id": "59db113d-fcca-4122-927f-7bb522bd7df0",
   "metadata": {},
   "outputs": [
    {
     "data": {
      "image/png": "[encoded data removed]",
      "text/plain": [
       "<Figure size 432x288 with 1 Axes>"
      ]
     },
     "metadata": {
      "needs_background": "light"
     },
     "output_type": "display_data"
    }
   ],
   "source": [
    "fig, ax = plt.subplots()\n",
    "optimiziers = ['GD', 'SGD', 'ADAM', 'Adagrad', 'RMSprop']\n",
    "counts = [statistics[\"mushroom\"][\"GD_100_Normalized\"], \n",
    "          statistics[\"mushroom\"][\"SGD_100_Normalized\"],\n",
    "          statistics[\"mushroom\"][\"SGD_momentum_100_Normalized\"],\n",
    "          statistics[\"mushroom\"][\"ADAM_100_Normalized\"], \n",
    "          statistics[\"mushroom\"][\"Adagrad_100_Normalized\"], \n",
    "          statistics[\"mushroom\"][\"RMSprop_100_Normalized\"]]\n",
    "# bar_labels = ['Gradient Descent', 'blue', '_red', 'orange']\n",
    "# bar_colors = ['tab:red', 'tab:blue', 'tab:red', 'tab:orange']\n",
    "\n",
    "ax.bar(optimiziers, counts)\n",
    "\n",
    "ax.set_ylabel('Loss')\n",
    "ax.set_title('Loss of different optimizers for mushroom dataset over 100 functions')\n",
    "\n",
    "plt.show()"
   ]
  }
 ],
 "metadata": {
  "kernelspec": {
   "display_name": "Python 3 (ipykernel)",
   "language": "python",
   "name": "python3"
  },
  "language_info": {
   "codemirror_mode": {
    "name": "ipython",
    "version": 3
   },
   "file_extension": ".py",
   "mimetype": "text/x-python",
   "name": "python",
   "nbconvert_exporter": "python",
   "pygments_lexer": "ipython3",
   "version": "3.10.1"
  }
 },
 "nbformat": 4,
 "nbformat_minor": 5
}
